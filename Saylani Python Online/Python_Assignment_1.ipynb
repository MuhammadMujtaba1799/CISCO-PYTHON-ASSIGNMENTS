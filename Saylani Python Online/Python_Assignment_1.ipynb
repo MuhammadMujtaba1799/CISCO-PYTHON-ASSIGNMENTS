{
 "cells": [
  {
   "cell_type": "markdown",
   "metadata": {},
   "source": [
    "            Python Programming Language\n",
    "                Assignment#1"
   ]
  },
  {
   "cell_type": "code",
   "execution_count": 3,
   "metadata": {},
   "outputs": [
    {
     "name": "stdout",
     "output_type": "stream",
     "text": [
      "Twinkle, twinkle, little star,\n",
      "\tHow I wonder what you are!\n",
      "\t\tUp above the world so high,\n",
      "\t\tLike a diamond in the sky.\n",
      "Twinkle, twinkle, little star,\n",
      "\tHow I wonder what you are\n"
     ]
    }
   ],
   "source": [
    "    #Questuin#1\n",
    "print(\"Twinkle, twinkle, little star,\\n\\tHow I wonder what you are!\\n\\t\\tUp above the world so high,\\n\\t\\tLike a diamond in the sky.\\nTwinkle, twinkle, little star,\\n\\tHow I wonder what you are\")"
   ]
  },
  {
   "cell_type": "code",
   "execution_count": 1,
   "metadata": {},
   "outputs": [
    {
     "name": "stdout",
     "output_type": "stream",
     "text": [
      "3.7.3\n"
     ]
    }
   ],
   "source": [
    "#Question# 2\n",
    "#Write a Python program to get the Python version you are using\n",
    "\n",
    "import platform\n",
    "print(platform.python_version())\n"
   ]
  },
  {
   "cell_type": "code",
   "execution_count": 2,
   "metadata": {},
   "outputs": [
    {
     "name": "stdout",
     "output_type": "stream",
     "text": [
      "2019-11-02 18:49:57.088181\n"
     ]
    }
   ],
   "source": [
    "#Question 3\n",
    "#Write a Python program to display the current date and time.\n",
    "from datetime import datetime\n",
    "print(datetime.now())"
   ]
  },
  {
   "cell_type": "code",
   "execution_count": 2,
   "metadata": {},
   "outputs": [
    {
     "name": "stdout",
     "output_type": "stream",
     "text": [
      "Enter Radius for ciecle : 4\n",
      "Area Of Circle is :  50.24\n"
     ]
    }
   ],
   "source": [
    "#Question4\n",
    "#Write a Python program which accepts the radius of a circle from the user and compute the area.\n",
    "\n",
    "radius=float(input(\"Enter Radius for ciecle : \"))\n",
    "area=3.14*radius*radius\n",
    "print(\"Area Of Circle is : \",area)\n"
   ]
  },
  {
   "cell_type": "code",
   "execution_count": 3,
   "metadata": {},
   "outputs": [
    {
     "name": "stdout",
     "output_type": "stream",
     "text": [
      "What is your last name?:Arsalan \n",
      "What is your last?Ahmed\n",
      " nalasrA demhA\n"
     ]
    }
   ],
   "source": [
    "#Question 5\n",
    "#Write a Python program which accepts the user's first and last name and print them in reverse order with a space between them.\n",
    "firstname = input(\"What is your last name?:\")\n",
    "lastname = input(\"What is your last?\")\n",
    "print(firstname[::-1] + \" \" + lastname[::-1])\n"
   ]
  },
  {
   "cell_type": "code",
   "execution_count": 4,
   "metadata": {},
   "outputs": [
    {
     "name": "stdout",
     "output_type": "stream",
     "text": [
      "ENTER FIRST NUMBER : 3\n",
      "ENTER SECOND NUMBER : 5\n",
      "ADDITION BETWEEN NUMBER IS :  8\n"
     ]
    }
   ],
   "source": [
    "# Question # 6\n",
    "# Write a python program which takes two inputs from user and print them addition\n",
    "\n",
    "num1=int(input(\"ENTER FIRST NUMBER : \"))\n",
    "num2=int(input(\"ENTER SECOND NUMBER : \"))\n",
    "\n",
    "print(\"ADDITION BETWEEN NUMBER IS : \",num1+num2)"
   ]
  },
  {
   "cell_type": "code",
   "execution_count": null,
   "metadata": {},
   "outputs": [],
   "source": []
  }
 ],
 "metadata": {
  "kernelspec": {
   "display_name": "Python 3",
   "language": "python",
   "name": "python3"
  },
  "language_info": {
   "codemirror_mode": {
    "name": "ipython",
    "version": 3
   },
   "file_extension": ".py",
   "mimetype": "text/x-python",
   "name": "python",
   "nbconvert_exporter": "python",
   "pygments_lexer": "ipython3",
   "version": "3.7.3"
  }
 },
 "nbformat": 4,
 "nbformat_minor": 2
}
